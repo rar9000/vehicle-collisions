{
 "cells": [
  {
   "cell_type": "code",
   "execution_count": null,
   "metadata": {},
   "outputs": [],
   "source": [
    "Words talking "
   ]
  },
  {
   "cell_type": "code",
   "execution_count": 1,
   "metadata": {},
   "outputs": [],
   "source": [
    "import pandas as pd\n",
    "import numpy as np\n",
    "\n",
    "crashes = pd.read_csv('data/clean_data/clean_data_main.csv')\n",
    "cars = pd.read_csv('data/clean_data/clean_data_car.csv')"
   ]
  },
  {
   "cell_type": "markdown",
   "metadata": {},
   "source": [
    "Q:Overall collisions for 2019-2020?\n",
    "A: 48,005"
   ]
  },
  {
   "cell_type": "code",
   "execution_count": 7,
   "metadata": {},
   "outputs": [
    {
     "data": {
      "text/plain": [
       "Index    48005\n",
       "dtype: int64"
      ]
     },
     "execution_count": 7,
     "metadata": {},
     "output_type": "execute_result"
    }
   ],
   "source": [
    "crashes.count().head(1)\n",
    "\n"
   ]
  },
  {
   "cell_type": "markdown",
   "metadata": {},
   "source": [
    "Q: Total number of deaths?\n",
    "A: 217"
   ]
  },
  {
   "cell_type": "code",
   "execution_count": 9,
   "metadata": {},
   "outputs": [
    {
     "data": {
      "text/plain": [
       "217"
      ]
     },
     "execution_count": 9,
     "metadata": {},
     "output_type": "execute_result"
    }
   ],
   "source": [
    "crashes['NumberKilled'].sum()"
   ]
  },
  {
   "cell_type": "markdown",
   "metadata": {},
   "source": [
    "Q: Roads with most collisions?\n",
    "A: Dixie, Bardstown, Shelbyville, etc. "
   ]
  },
  {
   "cell_type": "code",
   "execution_count": 11,
   "metadata": {},
   "outputs": [
    {
     "data": {
      "text/plain": [
       "RoadwayName\n",
       "DIXIE           2136\n",
       "BARDSTOWN       1812\n",
       "SHELBYVILLE     1802\n",
       "PRESTON         1210\n",
       "HURSTBOURNE     1142\n",
       "OUTER            851\n",
       "TAYLORSVILLE     835\n",
       "I264 W           825\n",
       "BROADWAY         792\n",
       "WESTPORT         785\n",
       "Name: count, dtype: int64"
      ]
     },
     "execution_count": 11,
     "metadata": {},
     "output_type": "execute_result"
    }
   ],
   "source": [
    "crashes['RoadwayName'].value_counts().head(10)"
   ]
  },
  {
   "cell_type": "markdown",
   "metadata": {},
   "source": [
    "Q: Deadliest roads?\n",
    "A: Dixie, I64 W, Preston, etc."
   ]
  },
  {
   "cell_type": "code",
   "execution_count": 12,
   "metadata": {},
   "outputs": [
    {
     "data": {
      "text/plain": [
       "RoadwayName\n",
       "DIXIE           18\n",
       "I64 W           13\n",
       "PRESTON         10\n",
       "BARDSTOWN        9\n",
       "BRECKENRIDGE     7\n",
       "BROADWAY         5\n",
       "CANE RUN         5\n",
       "NEW CUT          5\n",
       "I64 E            5\n",
       "OLD HENRY        4\n",
       "Name: NumberKilled, dtype: int64"
      ]
     },
     "execution_count": 12,
     "metadata": {},
     "output_type": "execute_result"
    }
   ],
   "source": [
    "crashes.groupby('RoadwayName')['NumberKilled'].sum().sort_values(ascending=False).head(10)"
   ]
  },
  {
   "cell_type": "markdown",
   "metadata": {},
   "source": [
    "Q: Intersection with most collisions?\n",
    "A: 7th Street and Hill "
   ]
  },
  {
   "cell_type": "code",
   "execution_count": 15,
   "metadata": {},
   "outputs": [
    {
     "data": {
      "text/plain": [
       "RoadwayName  IntersectionRdwyName\n",
       "7TH          HILL                    57\n",
       "BARDSTOWN    GOLDSMITH               46\n",
       "CANE RUN     CRUMS                   42\n",
       "HURSTBOURNE  BUNSEN                  41\n",
       "PRESTON      OUTER                   39\n",
       "TAYLOR       BLUEGRASS               38\n",
       "FERN VALLEY  PRESTON                 38\n",
       "BROOK        BROADWAY                35\n",
       "OUTER        MINOR                   35\n",
       "CANE RUN     TERRY                   33\n",
       "dtype: int64"
      ]
     },
     "execution_count": 15,
     "metadata": {},
     "output_type": "execute_result"
    }
   ],
   "source": [
    "crashes.groupby(['RoadwayName', 'IntersectionRdwyName']).size().sort_values(ascending=False).head(10)"
   ]
  },
  {
   "cell_type": "markdown",
   "metadata": {},
   "source": [
    "Q: What make and model of vehicle is involved in the most collisions?\n",
    "A: Toyota Camry"
   ]
  },
  {
   "cell_type": "code",
   "execution_count": 20,
   "metadata": {},
   "outputs": [
    {
     "data": {
      "text/plain": [
       "ModelDescription\n",
       "CAMRY      2801\n",
       "FUSION     2079\n",
       "ACCORD     2020\n",
       "F150       1933\n",
       "ESCAPE     1820\n",
       "COROLLA    1682\n",
       "ALTIMA     1668\n",
       "CIVIC      1607\n",
       "MALIBU     1500\n",
       "FOCUS      1456\n",
       "dtype: int64"
      ]
     },
     "execution_count": 20,
     "metadata": {},
     "output_type": "execute_result"
    }
   ],
   "source": [
    "cars.groupby([ 'ModelDescription']).size().sort_values(ascending=False).head(10)"
   ]
  },
  {
   "cell_type": "markdown",
   "metadata": {},
   "source": [
    "Q: Most common weather condition for collision?\n",
    "A: Clear"
   ]
  },
  {
   "cell_type": "code",
   "execution_count": 21,
   "metadata": {},
   "outputs": [
    {
     "data": {
      "text/plain": [
       "Weather\n",
       "CLEAR                          30643\n",
       "CLOUDY                         10212\n",
       "RAINING                         6544\n",
       "SNOWING                          278\n",
       "OTHER                             77\n",
       "FOG                               62\n",
       "SLEET, HAIL, FREEZING RAIN        48\n",
       "FOG WITH RAIN                     47\n",
       "BLOWING SAND/SOIL/DIRT/SNOW       20\n",
       "SEVERE CROSSWINDS                  9\n",
       "Name: count, dtype: int64"
      ]
     },
     "execution_count": 21,
     "metadata": {},
     "output_type": "execute_result"
    }
   ],
   "source": [
    "crashes['Weather'].value_counts().head(10)"
   ]
  },
  {
   "cell_type": "markdown",
   "metadata": {},
   "source": [
    "Q: Most common weather when collision results in a death?\n",
    "A: Clear (Snow almost a non factor)"
   ]
  },
  {
   "cell_type": "code",
   "execution_count": 22,
   "metadata": {},
   "outputs": [
    {
     "data": {
      "text/plain": [
       "Weather\n",
       "CLEAR                          149\n",
       "CLOUDY                          43\n",
       "RAINING                         18\n",
       "FOG                              3\n",
       "BLOWING SAND/SOIL/DIRT/SNOW      1\n",
       "FOG WITH RAIN                    1\n",
       "SLEET, HAIL, FREEZING RAIN       1\n",
       "SNOWING                          1\n",
       "OTHER                            0\n",
       "SEVERE CROSSWINDS                0\n",
       "Name: NumberKilled, dtype: int64"
      ]
     },
     "execution_count": 22,
     "metadata": {},
     "output_type": "execute_result"
    }
   ],
   "source": [
    "crashes.groupby('Weather')['NumberKilled'].sum().sort_values(ascending=False).head(10)"
   ]
  },
  {
   "cell_type": "markdown",
   "metadata": {},
   "source": [
    "Q: How many cars tyoically involved in a collision? \n",
    "A: Typically at least 2 vehicles involved "
   ]
  },
  {
   "cell_type": "code",
   "execution_count": 32,
   "metadata": {},
   "outputs": [
    {
     "data": {
      "text/plain": [
       "MotorVehiclesInvolved\n",
       "2    37638\n",
       "1     6548\n",
       "3     3157\n",
       "4      519\n",
       "5       93\n",
       "6       35\n",
       "7        8\n",
       "0        5\n",
       "8        2\n",
       "Name: count, dtype: int64"
      ]
     },
     "execution_count": 32,
     "metadata": {},
     "output_type": "execute_result"
    }
   ],
   "source": [
    "crashes['MotorVehiclesInvolved'].value_counts().head(10)"
   ]
  },
  {
   "cell_type": "markdown",
   "metadata": {},
   "source": [
    "Q: Most cars involved in a collision?\n",
    "A: On two ocasioccasions 8 vehicles invloved in a single collision "
   ]
  },
  {
   "cell_type": "code",
   "execution_count": 33,
   "metadata": {},
   "outputs": [
    {
     "data": {
      "text/plain": [
       "40201    8\n",
       "39482    8\n",
       "44686    7\n",
       "46071    7\n",
       "44678    7\n",
       "22489    7\n",
       "39616    7\n",
       "43042    7\n",
       "14215    7\n",
       "43585    7\n",
       "Name: MotorVehiclesInvolved, dtype: int64"
      ]
     },
     "execution_count": 33,
     "metadata": {},
     "output_type": "execute_result"
    }
   ],
   "source": [
    "crashes['MotorVehiclesInvolved'].sort_values(ascending=False).head(10)"
   ]
  }
 ],
 "metadata": {
  "kernelspec": {
   "display_name": "Python 3",
   "language": "python",
   "name": "python3"
  },
  "language_info": {
   "codemirror_mode": {
    "name": "ipython",
    "version": 3
   },
   "file_extension": ".py",
   "mimetype": "text/x-python",
   "name": "python",
   "nbconvert_exporter": "python",
   "pygments_lexer": "ipython3",
   "version": "3.11.4"
  }
 },
 "nbformat": 4,
 "nbformat_minor": 2
}
