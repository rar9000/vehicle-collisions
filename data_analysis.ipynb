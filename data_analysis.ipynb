{
 "cells": [
  {
   "cell_type": "markdown",
   "metadata": {},
   "source": [
    "# Data Analysis \n",
    "## Car Collisions from 2019-2020 "
   ]
  },
  {
   "cell_type": "code",
   "execution_count": 18,
   "metadata": {},
   "outputs": [],
   "source": [
    "import pandas as pd\n",
    "import numpy as np\n",
    "\n",
    "crashes = pd.read_csv('data/clean_data/clean_data_main.csv')\n",
    "cars = pd.read_csv('data/clean_data/clean_data_car.csv')\n",
    "non_covid = crashes.query(\"'2019-03-16' <= CollisionDate <= '2019-12-31'\")\n",
    "covid = crashes.query(\"'2020-03-16' <= CollisionDate <= '2020-12-31'\")\n"
   ]
  },
  {
   "cell_type": "markdown",
   "metadata": {},
   "source": [
    "Q: How many collisions before covid from March 16, 2019 - December 31, 2019\n",
    "(Gov. Andy Bashear implimented Covid restrictions begining March 16, 2020)\n",
    "A: 26,418 collisions"
   ]
  },
  {
   "cell_type": "code",
   "execution_count": 19,
   "metadata": {},
   "outputs": [
    {
     "data": {
      "text/plain": [
       "Index    26418\n",
       "dtype: int64"
      ]
     },
     "execution_count": 19,
     "metadata": {},
     "output_type": "execute_result"
    }
   ],
   "source": [
    "total_nc = non_covid.count().head(1)\n",
    "total_nc"
   ]
  },
  {
   "cell_type": "markdown",
   "metadata": {},
   "source": [
    "Q: How many collisions during covid from March 16, 2020 - December 31, 2020\n",
    "(Gov. Andy Bashear implimented Covid restrictions begining March 16, 2020)\n",
    "A: 9,487 collisions"
   ]
  },
  {
   "cell_type": "code",
   "execution_count": 20,
   "metadata": {},
   "outputs": [
    {
     "data": {
      "text/plain": [
       "Index    9487\n",
       "dtype: int64"
      ]
     },
     "execution_count": 20,
     "metadata": {},
     "output_type": "execute_result"
    }
   ],
   "source": [
    "total_c = covid.count().head(1)\n",
    "total_c"
   ]
  },
  {
   "cell_type": "markdown",
   "metadata": {},
   "source": [
    "Q: What percentage did collisions drop during Covid?\n",
    "A: 54%"
   ]
  },
  {
   "cell_type": "code",
   "execution_count": 25,
   "metadata": {},
   "outputs": [
    {
     "data": {
      "text/plain": [
       "Index    54.333071\n",
       "dtype: float64"
      ]
     },
     "execution_count": 25,
     "metadata": {},
     "output_type": "execute_result"
    }
   ],
   "source": [
    "subtract = total_nc - total_c \n",
    "average = total_nc + total_c / 2\n",
    "percent = subtract / average * 100 \n",
    "percent"
   ]
  },
  {
   "cell_type": "markdown",
   "metadata": {},
   "source": [
    "Q: What days of the week had the most and least collisions before Covid?\n",
    "A: most - Friday 4,497 \n",
    "   least - Sunday 2,545\n",
    "Q: Percent change?\n",
    "A: 55%"
   ]
  },
  {
   "cell_type": "code",
   "execution_count": 23,
   "metadata": {},
   "outputs": [
    {
     "name": "stdout",
     "output_type": "stream",
     "text": [
      "DayofWeek\n",
      "Friday    4497\n",
      "Name: count, dtype: int64 DayofWeek\n",
      "Sunday    2545\n",
      "Name: count, dtype: int64\n"
     ]
    }
   ],
   "source": [
    "day_most = non_covid['DayofWeek'].value_counts().sort_values(ascending=False).head(1)\n",
    "day_least = non_covid['DayofWeek'].value_counts().sort_values(ascending=True).head(1)\n",
    "print(day_most, day_least)"
   ]
  },
  {
   "cell_type": "markdown",
   "metadata": {},
   "source": [
    "Q: Worst time to drive for Friday before Covid?\n",
    "A: 5:00-6:00pm (rush hour!)\n"
   ]
  },
  {
   "cell_type": "code",
   "execution_count": 32,
   "metadata": {},
   "outputs": [
    {
     "name": "stdout",
     "output_type": "stream",
     "text": [
      "CollisionTime\n",
      "17.0    448\n",
      "Name: count, dtype: int64\n"
     ]
    }
   ],
   "source": [
    "times_of_crash = non_covid.query(\"DayofWeek == 'Friday'\")\n",
    "time = times_of_crash['CollisionTime'].value_counts().head(1)\n",
    "print(time)\n",
    " # subtract 12 from result if over 12 (17-12 = 5:00pm)"
   ]
  },
  {
   "cell_type": "markdown",
   "metadata": {},
   "source": [
    "Q: What days of the week had the most and least collisions during Covid?\n",
    "A: most - Friday 1,496 \n",
    "   least - Sunday 1,227\n",
    "Q: Percent change?\n",
    "A: 20%"
   ]
  },
  {
   "cell_type": "code",
   "execution_count": 24,
   "metadata": {},
   "outputs": [
    {
     "name": "stdout",
     "output_type": "stream",
     "text": [
      "DayofWeek\n",
      "Friday    1496\n",
      "Name: count, dtype: int64 DayofWeek\n",
      "Sunday    1127\n",
      "Name: count, dtype: int64\n"
     ]
    }
   ],
   "source": [
    "day_most_c = covid['DayofWeek'].value_counts().sort_values(ascending=False).head(1)\n",
    "day_least_c = covid['DayofWeek'].value_counts().sort_values(ascending=True).head(1)\n",
    "print(day_most_c, day_least_c)"
   ]
  },
  {
   "cell_type": "markdown",
   "metadata": {},
   "source": [
    "Q: Worst time to drive for Friday during Covid?\n",
    "A: 5:00-6:00pm (rush hour again!)"
   ]
  },
  {
   "cell_type": "code",
   "execution_count": 35,
   "metadata": {},
   "outputs": [
    {
     "name": "stdout",
     "output_type": "stream",
     "text": [
      "CollisionTime\n",
      "17.0    137\n",
      "Name: count, dtype: int64\n"
     ]
    }
   ],
   "source": [
    "times_of_crash_c = covid.query(\"DayofWeek == 'Friday'\")\n",
    "time_c = times_of_crash_c['CollisionTime'].value_counts().head(1)\n",
    "print(time_c)\n",
    " # subtract 12 from result if over 12 (17-12 = 5:00pm)"
   ]
  },
  {
   "cell_type": "markdown",
   "metadata": {},
   "source": [
    "Worst road to drive before covid? "
   ]
  }
 ],
 "metadata": {
  "kernelspec": {
   "display_name": "Python 3",
   "language": "python",
   "name": "python3"
  },
  "language_info": {
   "codemirror_mode": {
    "name": "ipython",
    "version": 3
   },
   "file_extension": ".py",
   "mimetype": "text/x-python",
   "name": "python",
   "nbconvert_exporter": "python",
   "pygments_lexer": "ipython3",
   "version": "3.11.4"
  }
 },
 "nbformat": 4,
 "nbformat_minor": 2
}
